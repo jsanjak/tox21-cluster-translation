{
 "cells": [
  {
   "cell_type": "code",
   "execution_count": 1,
   "metadata": {},
   "outputs": [],
   "source": [
    "import json\n",
    "import csv\n",
    "import requests\n",
    "import urllib.parse\n",
    "import pickle\n",
    "from importlib import reload\n",
    "\n",
    "#import translatorpy\n",
    "from translatorpy.trapigraph import TrapiGraph\n",
    "from translatorpy.translatorquery import TranslatorQuery\n",
    "from translatorpy import utilities as translator_util"
   ]
  },
  {
   "cell_type": "code",
   "execution_count": 14,
   "metadata": {},
   "outputs": [],
   "source": [
    "key_clusters = [2]#,1,94,105]\n",
    "\n",
    "candidate_data = []\n",
    "with open(\"../data/tox21_cluster_compound_target_candidates.csv\") as csvfile:\n",
    "    reader = csv.DictReader(csvfile)\n",
    "    for row in reader:\n",
    "        if (int(row['cluster']) in key_clusters) & (row['tier']=='Tier 3'):\n",
    "            candidate_data.append(row)\n",
    "\n",
    "all_candidate_genes = set([i['target_gene'] for i in candidate_data])\n",
    "#translator_gene_names = translator_util.translate_node_name(all_candidate_genes,'NCBIGene',cutoff=True)\n",
    "with open('../data/gene_names.pkl', 'rb') as handle:\n",
    "    translator_gene_names = pickle.load(handle)\n",
    "\n",
    "genename2ncbicurie = {i[0]:i[1] for i in translator_gene_names}\n",
    "\n",
    "all_candidate_compounds = set([i['sample_name'] for i in candidate_data])\n",
    "#translator_compound_names = translator_util.translate_node_name(all_candidate_compounds,'PUBCHEM.COMPOUND')\n",
    "\n",
    "#with open('data/compound_names.pkl', 'wb') as handle:\n",
    "#    pickle.dump(translator_compound_names,handle,protocol=pickle.HIGHEST_PROTOCOL)\n",
    "\n",
    "with open('../data/compound_names.pkl', 'rb') as handle:\n",
    "    translator_compound_names = pickle.load(handle)\n",
    "\n",
    "samplename2pubchemcurie = {i[0]:i[1] for i in translator_compound_names}\n"
   ]
  },
  {
   "cell_type": "code",
   "execution_count": 15,
   "metadata": {},
   "outputs": [
    {
     "data": {
      "text/plain": [
       "77"
      ]
     },
     "execution_count": 15,
     "metadata": {},
     "output_type": "execute_result"
    }
   ],
   "source": [
    "len(candidate_data)"
   ]
  },
  {
   "cell_type": "code",
   "execution_count": 3,
   "metadata": {},
   "outputs": [],
   "source": [
    "\n",
    "for target_candidate in [x for x in candidate_data if (x['target_gene']=='ERBB2') & (x['sample_name']=='Posaconazole')]:\n",
    "    if target_candidate['sample_name'] in samplename2pubchemcurie:\n",
    "        compound=samplename2pubchemcurie[target_candidate['sample_name']]\n",
    "    else:\n",
    "        cid = target_candidate['pubchem_cid']\n",
    "        compound = f'PUBCHEM.COMPOUND:{cid}'    \n",
    "    gene = genename2ncbicurie[target_candidate['target_gene']]\n",
    "    direct_edge_list = [[compound,gene,'biolink:related_to']]\n",
    "    indirect_edge_list = [[compound,'biolink:NamedThing','biolink:related_to'],['biolink:NamedThing',gene,'biolink:related_to']]\n",
    "    node_categories = {compound:['biolink:ChemicalEntity'],gene:['biolink:Gene']}\n",
    "    candidate_direct_trapi = TrapiGraph(direct_edge_list,format='SOP',node_data=node_categories)\n",
    "    candidate_indirect_trapi = TrapiGraph(indirect_edge_list,format='SOP',node_data=node_categories)\n"
   ]
  },
  {
   "cell_type": "code",
   "execution_count": 4,
   "metadata": {},
   "outputs": [
    {
     "data": {
      "text/plain": [
       "{'message': {'query_graph': {'edges': {'e00': {'subject': 'n00',\n",
       "     'object': 'n01',\n",
       "     'predicates': ['biolink:related_to']},\n",
       "    'e01': {'subject': 'n01',\n",
       "     'object': 'n02',\n",
       "     'predicates': ['biolink:related_to']}},\n",
       "   'nodes': {'n00': {'ids': ['PUBCHEM.COMPOUND:468595'],\n",
       "     'categories': ['biolink:ChemicalEntity']},\n",
       "    'n01': {'categories': ['biolink:NamedThing']},\n",
       "    'n02': {'ids': ['NCBIGene:2064'], 'categories': ['biolink:Gene']}}}}}"
      ]
     },
     "execution_count": 4,
     "metadata": {},
     "output_type": "execute_result"
    }
   ],
   "source": [
    "candidate_indirect_trapi.query"
   ]
  },
  {
   "cell_type": "code",
   "execution_count": 5,
   "metadata": {},
   "outputs": [
    {
     "name": "stdout",
     "output_type": "stream",
     "text": [
      "Still Running\n",
      "Still Running\n",
      "Still Running\n",
      "Still Running\n",
      "Still Running\n",
      "Still Running\n",
      "Still Running\n",
      "Still Running\n",
      "Still Running\n",
      "Done\n",
      "Done\n",
      "Done ara-aragorn 399\n",
      "Done\n",
      "Done ara-arax 0\n",
      "Done\n",
      "Done ara-bte 177\n",
      "Error\n",
      "Error ara-unsecret 0\n",
      "Unknown\n",
      "Unknown kp-genetics 0\n",
      "Error\n",
      "Error kp-molecular 0\n",
      "Done\n",
      "Done ara-explanatory 3\n",
      "Done\n",
      "Done ara-improving 1\n",
      "Done\n",
      "Done kp-cam 0\n",
      "Done\n",
      "Done kp-textmining 40\n",
      "Done\n",
      "Done kp-openpredict 0\n",
      "Done\n",
      "ARS Error kp-icees 0\n",
      "Done\n",
      "Done kp-chp 0\n",
      "Error\n",
      "Error kp-cohd 0\n",
      "Done\n",
      "ARS Error kp-icees-dili 0\n"
     ]
    }
   ],
   "source": [
    "#myquery._TranslatorQuery__submit_to_ars(myquery.query_graph.query)\n",
    "myquery = TranslatorQuery()\n",
    "myquery.query(candidate_indirect_trapi,delay=30)\n"
   ]
  },
  {
   "cell_type": "code",
   "execution_count": 6,
   "metadata": {},
   "outputs": [],
   "source": [
    "myquery.to_tsv('../data/translator_example_results.tsv')"
   ]
  }
 ],
 "metadata": {
  "interpreter": {
   "hash": "2bc458659622e568e8c0dda7df284ec2c1aecc624be18b6e139abd5ed69fa040"
  },
  "kernelspec": {
   "display_name": "Python 3.8.8 ('translator-query')",
   "language": "python",
   "name": "python3"
  },
  "language_info": {
   "codemirror_mode": {
    "name": "ipython",
    "version": 3
   },
   "file_extension": ".py",
   "mimetype": "text/x-python",
   "name": "python",
   "nbconvert_exporter": "python",
   "pygments_lexer": "ipython3",
   "version": "3.8.8"
  },
  "orig_nbformat": 4
 },
 "nbformat": 4,
 "nbformat_minor": 2
}
