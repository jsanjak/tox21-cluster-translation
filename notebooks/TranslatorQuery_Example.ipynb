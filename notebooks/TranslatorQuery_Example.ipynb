{
 "cells": [
  {
   "cell_type": "code",
   "execution_count": 1,
   "metadata": {},
   "outputs": [],
   "source": [
    "import json\n",
    "import csv\n",
    "import requests\n",
    "import urllib.parse\n",
    "import pickle\n",
    "from importlib import reload\n",
    "\n",
    "#\n",
    "from kgx.transformer import Transformer\n",
    "from kgx.validator import Validator\n",
    "from bmt import Toolkit\n",
    "\n",
    "#import translatorpy\n",
    "from translatorpy.trapigraph import TrapiGraph\n",
    "from translatorpy.translatorquery import TranslatorQuery\n",
    "from translatorpy import utilities as translator_util"
   ]
  },
  {
   "cell_type": "code",
   "execution_count": 2,
   "metadata": {},
   "outputs": [],
   "source": [
    "key_clusters = [2]#,1,94,105]\n",
    "\n",
    "candidate_data = []\n",
    "with open(\"../data/tox21_cluster_compound_target_candidates.csv\") as csvfile:\n",
    "    reader = csv.DictReader(csvfile)\n",
    "    for row in reader:\n",
    "        if (int(row['cluster']) in key_clusters):\n",
    "            candidate_data.append(row)\n",
    "\n",
    "all_candidate_genes = set([i['target_gene'] for i in candidate_data])\n",
    "#translator_gene_names = translator_util.translate_node_name(all_candidate_genes,'NCBIGene',cutoff=True)\n",
    "with open('../data/gene_names.pkl', 'rb') as handle:\n",
    "    translator_gene_names = pickle.load(handle)\n",
    "\n",
    "genename2ncbicurie = {i[0]:i[1] for i in translator_gene_names}\n",
    "\n",
    "all_candidate_compounds = set([i['sample_name'] for i in candidate_data])\n",
    "#translator_compound_names = translator_util.translate_node_name(all_candidate_compounds,'PUBCHEM.COMPOUND')\n",
    "\n",
    "#with open('data/compound_names.pkl', 'wb') as handle:\n",
    "#    pickle.dump(translator_compound_names,handle,protocol=pickle.HIGHEST_PROTOCOL)\n",
    "\n",
    "with open('../data/compound_names.pkl', 'rb') as handle:\n",
    "    translator_compound_names = pickle.load(handle)\n",
    "\n",
    "samplename2pubchemcurie = {i[0]:i[1] for i in translator_compound_names}\n"
   ]
  },
  {
   "cell_type": "code",
   "execution_count": 3,
   "metadata": {},
   "outputs": [
    {
     "data": {
      "text/plain": [
       "['GSK163929B',\n",
       " 'Aripiprazole',\n",
       " 'Diniconazole',\n",
       " 'SAR102779',\n",
       " 'Amiodarone hydrochloride',\n",
       " 'Amiodarone hydrochloride',\n",
       " 'Lomerizine dihydrochloride',\n",
       " 'Carvedilol tartrate',\n",
       " 'Proglumetacin',\n",
       " 'Fenbuconazole',\n",
       " 'Aprepitant',\n",
       " 'Hexaconazole',\n",
       " 'MK-2206',\n",
       " 'Pimozide',\n",
       " 'Nicardipine',\n",
       " 'Lidoflazine',\n",
       " 'Posaconazole',\n",
       " '(+/-) -Niguldipine hydrochloride (1:x)']"
      ]
     },
     "execution_count": 3,
     "metadata": {},
     "output_type": "execute_result"
    }
   ],
   "source": [
    "[x['sample_name'] for x in candidate_data if (x['target_gene']=='EGFR')]"
   ]
  },
  {
   "cell_type": "code",
   "execution_count": 4,
   "metadata": {},
   "outputs": [],
   "source": [
    "for target_candidate in [x for x in candidate_data if (x['target_gene']=='EGFR') & (x['sample_name']=='Aripiprazole')]:\n",
    "    if target_candidate['sample_name'] in samplename2pubchemcurie:\n",
    "        compound=samplename2pubchemcurie[target_candidate['sample_name']]\n",
    "    else:\n",
    "        cid = target_candidate['pubchem_cid']\n",
    "        compound = f'PUBCHEM.COMPOUND:{cid}'    \n",
    "    gene = genename2ncbicurie[target_candidate['target_gene']]\n",
    "    direct_edge_list = [[(0,compound),(1,gene),'biolink:related_to']]\n",
    "    indirect_edge_list = [[(0,compound),(1,'biolink:NamedThing'),'biolink:related_to'],\n",
    "    [(1,'biolink:NamedThing'),(2,gene),'biolink:related_to']]\n",
    "    \n",
    "    node_categories = {compound:['biolink:ChemicalEntity'],gene:['biolink:Gene']}\n",
    "    candidate_direct_trapi = TrapiGraph(direct_edge_list,format='SOP',node_data=node_categories)\n",
    "    candidate_indirect_trapi = TrapiGraph(indirect_edge_list,format='SOP',node_data=node_categories)\n"
   ]
  },
  {
   "cell_type": "code",
   "execution_count": 5,
   "metadata": {},
   "outputs": [
    {
     "data": {
      "text/plain": [
       "{'message': {'query_graph': {'edges': {'e00': {'subject': 'n00',\n",
       "     'object': 'n01',\n",
       "     'predicates': ['biolink:related_to']}},\n",
       "   'nodes': {'n00': {'ids': ['PUBCHEM.COMPOUND:60795'],\n",
       "     'categories': ['biolink:ChemicalEntity']},\n",
       "    'n01': {'ids': ['NCBIGene:1956'], 'categories': ['biolink:Gene']}}}}}"
      ]
     },
     "execution_count": 5,
     "metadata": {},
     "output_type": "execute_result"
    }
   ],
   "source": [
    "candidate_direct_trapi.query"
   ]
  },
  {
   "cell_type": "code",
   "execution_count": 6,
   "metadata": {},
   "outputs": [
    {
     "data": {
      "text/plain": [
       "{'message': {'query_graph': {'edges': {'e00': {'subject': 'n00',\n",
       "     'object': 'n01',\n",
       "     'predicates': ['biolink:related_to']},\n",
       "    'e01': {'subject': 'n01',\n",
       "     'object': 'n02',\n",
       "     'predicates': ['biolink:related_to']}},\n",
       "   'nodes': {'n00': {'ids': ['PUBCHEM.COMPOUND:60795'],\n",
       "     'categories': ['biolink:ChemicalEntity']},\n",
       "    'n01': {'categories': ['biolink:NamedThing']},\n",
       "    'n02': {'ids': ['NCBIGene:1956'], 'categories': ['biolink:Gene']}}}}}"
      ]
     },
     "execution_count": 6,
     "metadata": {},
     "output_type": "execute_result"
    }
   ],
   "source": [
    "candidate_indirect_trapi.query"
   ]
  },
  {
   "cell_type": "code",
   "execution_count": 7,
   "metadata": {},
   "outputs": [],
   "source": [
    "twohop_edge_list = [[(0,compound),(1,'biolink:NamedThing'),'biolink:related_to'],\n",
    "            [(1,'biolink:NamedThing'),(2,'biolink:NamedThing'),'biolink:related_to'],\n",
    "            [(2,'biolink:NamedThing'),(3,gene),'biolink:related_to']]\n",
    "candidate_twohop_trapi = TrapiGraph(twohop_edge_list,format='SOP',node_data=node_categories)\n"
   ]
  },
  {
   "cell_type": "code",
   "execution_count": 8,
   "metadata": {},
   "outputs": [
    {
     "data": {
      "text/plain": [
       "[[(0, 'PUBCHEM.COMPOUND:60795'),\n",
       "  (1, 'biolink:NamedThing'),\n",
       "  'biolink:related_to'],\n",
       " [(1, 'biolink:NamedThing'), (2, 'biolink:NamedThing'), 'biolink:related_to'],\n",
       " [(2, 'biolink:NamedThing'), (3, 'NCBIGene:1956'), 'biolink:related_to']]"
      ]
     },
     "execution_count": 8,
     "metadata": {},
     "output_type": "execute_result"
    }
   ],
   "source": [
    "twohop_edge_list"
   ]
  },
  {
   "cell_type": "code",
   "execution_count": 9,
   "metadata": {},
   "outputs": [
    {
     "data": {
      "text/plain": [
       "{'message': {'query_graph': {'edges': {'e00': {'subject': 'n00',\n",
       "     'object': 'n01',\n",
       "     'predicates': ['biolink:related_to']},\n",
       "    'e01': {'subject': 'n01',\n",
       "     'object': 'n02',\n",
       "     'predicates': ['biolink:related_to']},\n",
       "    'e02': {'subject': 'n02',\n",
       "     'object': 'n03',\n",
       "     'predicates': ['biolink:related_to']}},\n",
       "   'nodes': {'n00': {'ids': ['PUBCHEM.COMPOUND:60795'],\n",
       "     'categories': ['biolink:ChemicalEntity']},\n",
       "    'n01': {'categories': ['biolink:NamedThing']},\n",
       "    'n02': {'categories': ['biolink:NamedThing']},\n",
       "    'n03': {'ids': ['NCBIGene:1956'], 'categories': ['biolink:Gene']}}}}}"
      ]
     },
     "execution_count": 9,
     "metadata": {},
     "output_type": "execute_result"
    }
   ],
   "source": [
    "candidate_twohop_trapi.query"
   ]
  },
  {
   "cell_type": "code",
   "execution_count": 17,
   "metadata": {},
   "outputs": [
    {
     "name": "stdout",
     "output_type": "stream",
     "text": [
      "Still Running\n",
      "Still Running\n",
      "Still Running\n",
      "Still Running\n",
      "Still Running\n",
      "Still Running\n",
      "Still Running\n",
      "Still Running\n",
      "Still Running\n",
      "Done\n",
      "Done\n",
      "Done ara-aragorn 240\n",
      "Done\n",
      "Done ara-arax 0\n",
      "Done\n",
      "ARS Error ara-bte 0\n",
      "Error\n",
      "Error ara-unsecret 0\n",
      "Unknown\n",
      "Unknown kp-genetics 0\n",
      "Error\n",
      "Error kp-molecular 0\n",
      "Done\n",
      "Done ara-explanatory 16\n",
      "Done\n",
      "Done ara-improving 45\n",
      "Done\n",
      "Done kp-cam 0\n",
      "Done\n",
      "Done kp-textmining 123\n",
      "Done\n",
      "Done kp-openpredict 0\n",
      "Done\n",
      "ARS Error kp-icees 0\n",
      "Done\n",
      "Done kp-chp 0\n",
      "Error\n",
      "Error kp-cohd 0\n",
      "Done\n",
      "ARS Error kp-icees-dili 0\n"
     ]
    }
   ],
   "source": [
    "#myquery._TranslatorQuery__submit_to_ars(myquery.query_graph.query)\n",
    "myquery = TranslatorQuery()\n",
    "myquery.query(candidate_indirect_trapi,delay=30)\n"
   ]
  },
  {
   "cell_type": "code",
   "execution_count": 25,
   "metadata": {},
   "outputs": [
    {
     "data": {
      "text/plain": [
       "'EGFR\\tbiolink:interacts_with\\tDRD2_HUMAN D(2) dopamine receptor (sprot)'"
      ]
     },
     "execution_count": 25,
     "metadata": {},
     "output_type": "execute_result"
    }
   ],
   "source": [
    "def to_tsvlist(message,predicate_blacklist=[]):\n",
    "    #results = getpath(message,[\"message\",\"results\"])\n",
    "    #printjson(results)\n",
    "    kg = translator_util.getpath(message,[\"message\",\"knowledge_graph\"])\n",
    "    edges = kg['edges'].items()\n",
    "    nodes = kg['nodes']\n",
    "    tsv_list=[]\n",
    "    for id,edge in edges:\n",
    "        triple = (nodes[edge['subject']]['name'],edge['predicate'],nodes[edge['object']]['name'])\n",
    "        tsv_list.append('\\t'.join(triple))\n",
    "\n",
    "    return tsv_list\n",
    "\n",
    "to_tsvlist(myquery.results['ara-aragorn'])[0]"
   ]
  },
  {
   "cell_type": "code",
   "execution_count": 26,
   "metadata": {},
   "outputs": [],
   "source": [
    "#myquery.to_tsv('../data/translator_example_results.tsv')\n",
    "kg = translator_util.getpath(myquery.results['ara-aragorn'],[\"message\",\"knowledge_graph\"])"
   ]
  },
  {
   "cell_type": "code",
   "execution_count": 142,
   "metadata": {},
   "outputs": [],
   "source": [
    "tk = Toolkit()\n",
    "biolink_classes = [\"biolink:\" + i.title().replace(\" \",\"\") for i in tk.get_descendants('named thing')]\n",
    "\n",
    "def node2kgx(nid,node,biolink_classes):\n",
    "    \n",
    "    kgx_node = {\n",
    "        'id':nid,\n",
    "        'name':node.get('name'),\n",
    "        'attributes':node.get('attributes')\n",
    "    }\n",
    "    \n",
    "    node_cats = node.get('categories')\n",
    "    \n",
    "    named_things = [i for i in node_cats if i in biolink_classes]\n",
    "    \n",
    "    if len(named_things) > 0:\n",
    "        kgx_node['category'] = named_things\n",
    "    else:\n",
    "        kgx_node['category'] = ['biolink:NamedThing']\n",
    "    \n",
    "    return kgx_node\n",
    "    \n",
    "def edge2kgx(eid,edge):\n",
    "    \n",
    "    kgx_edge = {\n",
    "        'id':eid,\n",
    "        'subject': edge.get('subject'),\n",
    "        'predicate': edge.get('predicate'),\n",
    "        'object': edge.get('object')\n",
    "    }\n",
    "    \n",
    "    attr = edge.get('attributes')\n",
    "\n",
    "    rel_attr = [i['value'] for i in attr if i['attribute_type_id']=='biolink:relation']\n",
    "    if len(rel_attr)>0:\n",
    "        kgx_edge['relation'] = rel_attr[0]\n",
    "    else:\n",
    "        kgx_edge['relation'] = None\n",
    "    \n",
    "    return kgx_edge"
   ]
  },
  {
   "cell_type": "code",
   "execution_count": 143,
   "metadata": {},
   "outputs": [],
   "source": [
    "def trapi2kgx(kg):\n",
    "    \n",
    "    kgx = {}\n",
    "    kgx['nodes'] = [node2kgx(nid,node) for nid,node in kg['nodes'].items()]\n",
    "    kgx['edges'] = [edge2kgx(eid,edge) for eid,edge in kg['edges'].items()]\n",
    "    \n",
    "    return kgx\n",
    "    \n",
    "    "
   ]
  },
  {
   "cell_type": "code",
   "execution_count": 144,
   "metadata": {},
   "outputs": [],
   "source": [
    "kgx = trapi2kgx(kg)"
   ]
  },
  {
   "cell_type": "code",
   "execution_count": 145,
   "metadata": {},
   "outputs": [],
   "source": [
    "cat_set = []\n",
    "for i in kgx['nodes']:\n",
    "    cat_set.extend(i['category'])\n",
    "\n",
    "cat_set = set(cat_set)\n"
   ]
  },
  {
   "cell_type": "code",
   "execution_count": 147,
   "metadata": {},
   "outputs": [],
   "source": [
    "with open(\"../data/kgx_test.json\",encoding='utf-8',mode='w') as kgx_file:\n",
    "    json.dump(kgx,kgx_file,ensure_ascii=False, indent=2)"
   ]
  },
  {
   "cell_type": "code",
   "execution_count": 148,
   "metadata": {},
   "outputs": [],
   "source": [
    "\n",
    "output_args = {'filename': '../data/kgx_test', 'format': 'tsv'}\n",
    "input_args = {'filename': ['../data/kgx_test.json'], 'format': 'json'}\n",
    "\n",
    "t = Transformer()\n",
    "\n",
    "t.transform(input_args=input_args, output_args=output_args)\n"
   ]
  },
  {
   "cell_type": "code",
   "execution_count": null,
   "metadata": {},
   "outputs": [],
   "source": []
  }
 ],
 "metadata": {
  "interpreter": {
   "hash": "2bc458659622e568e8c0dda7df284ec2c1aecc624be18b6e139abd5ed69fa040"
  },
  "kernelspec": {
   "display_name": "Python 3.8.8 ('translator-query')",
   "language": "python",
   "name": "python3"
  },
  "language_info": {
   "codemirror_mode": {
    "name": "ipython",
    "version": 3
   },
   "file_extension": ".py",
   "mimetype": "text/x-python",
   "name": "python",
   "nbconvert_exporter": "python",
   "pygments_lexer": "ipython3",
   "version": "3.8.8"
  }
 },
 "nbformat": 4,
 "nbformat_minor": 2
}
